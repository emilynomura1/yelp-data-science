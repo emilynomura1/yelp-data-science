{
 "cells": [
  {
   "cell_type": "code",
   "execution_count": 1,
   "metadata": {},
   "outputs": [],
   "source": [
    "import pandas as pd\n",
    "import numpy as np\n",
    "from transformers import pipeline\n",
    "from nltk import word_tokenize"
   ]
  },
  {
   "cell_type": "code",
   "execution_count": 2,
   "metadata": {},
   "outputs": [],
   "source": [
    "reviews = pd.read_pickle(\"../data/user_review.pkl\")\n",
    "reviews_list = reviews[\"Comment\"].to_list()"
   ]
  },
  {
   "cell_type": "code",
   "execution_count": 3,
   "metadata": {},
   "outputs": [
    {
     "name": "stderr",
     "output_type": "stream",
     "text": [
      "All model checkpoint layers were used when initializing TFBertForSequenceClassification.\n",
      "\n",
      "All the layers of TFBertForSequenceClassification were initialized from the model checkpoint at nlptown/bert-base-multilingual-uncased-sentiment.\n",
      "If your task is similar to the task the model of the checkpoint was trained on, you can already use TFBertForSequenceClassification for predictions without further training.\n"
     ]
    }
   ],
   "source": [
    "bert_sentiment_classifier = pipeline(\n",
    "   model=\"nlptown/bert-base-multilingual-uncased-sentiment\", \n",
    "   top_k=None\n",
    ")"
   ]
  },
  {
   "cell_type": "code",
   "execution_count": 4,
   "metadata": {},
   "outputs": [
    {
     "data": {
      "text/plain": [
       "[[{'label': '1 star', 'score': 0.7858247756958008},\n",
       "  {'label': '2 stars', 'score': 0.12415939569473267},\n",
       "  {'label': '3 stars', 'score': 0.051191359758377075},\n",
       "  {'label': '4 stars', 'score': 0.03233683109283447},\n",
       "  {'label': '5 stars', 'score': 0.006487621925771236}]]"
      ]
     },
     "execution_count": 4,
     "metadata": {},
     "output_type": "execute_result"
    }
   ],
   "source": [
    "bert_sentiment_classifier(reviews_list[0])"
   ]
  },
  {
   "cell_type": "code",
   "execution_count": 5,
   "metadata": {},
   "outputs": [
    {
     "data": {
      "text/plain": [
       "[[{'label': '4 stars', 'score': 0.39698728919029236},\n",
       "  {'label': '5 stars', 'score': 0.26868367195129395},\n",
       "  {'label': '3 stars', 'score': 0.17163942754268646},\n",
       "  {'label': '2 stars', 'score': 0.11501819640398026},\n",
       "  {'label': '1 star', 'score': 0.047671422362327576}]]"
      ]
     },
     "execution_count": 5,
     "metadata": {},
     "output_type": "execute_result"
    }
   ],
   "source": [
    "bert_sentiment_classifier(reviews_list[100])"
   ]
  },
  {
   "cell_type": "code",
   "execution_count": 6,
   "metadata": {},
   "outputs": [
    {
     "name": "stdout",
     "output_type": "stream",
     "text": [
      "229\n",
      "270\n"
     ]
    }
   ],
   "source": [
    "# Number of words/tokens in a review varies depending on split method\n",
    "print(len(reviews_list[100].split()))\n",
    "print(len(word_tokenize(reviews_list[100])))"
   ]
  },
  {
   "cell_type": "code",
   "execution_count": 7,
   "metadata": {},
   "outputs": [
    {
     "name": "stdout",
     "output_type": "stream",
     "text": [
      "594\n",
      "588\n"
     ]
    }
   ],
   "source": [
    "print(len(reviews_list))\n",
    "tokenized_reviews = []\n",
    "for review in reviews_list:\n",
    "    if len(word_tokenize(review)) < 512:\n",
    "        tokenized_reviews.append(review)\n",
    "print(len(tokenized_reviews))"
   ]
  }
 ],
 "metadata": {
  "kernelspec": {
   "display_name": "DL",
   "language": "python",
   "name": "python3"
  },
  "language_info": {
   "codemirror_mode": {
    "name": "ipython",
    "version": 3
   },
   "file_extension": ".py",
   "mimetype": "text/x-python",
   "name": "python",
   "nbconvert_exporter": "python",
   "pygments_lexer": "ipython3",
   "version": "3.9.7"
  }
 },
 "nbformat": 4,
 "nbformat_minor": 2
}

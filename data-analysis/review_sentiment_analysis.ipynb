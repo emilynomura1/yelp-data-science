{
 "cells": [
  {
   "cell_type": "code",
   "execution_count": 1,
   "metadata": {},
   "outputs": [],
   "source": [
    "import pandas as pd\n",
    "import numpy as np\n",
    "from nltk import word_tokenize\n",
    "import matplotlib.pyplot as plt\n",
    "from sklearn import metrics"
   ]
  },
  {
   "cell_type": "code",
   "execution_count": 2,
   "metadata": {},
   "outputs": [],
   "source": [
    "sentiment_results = pd.read_pickle(\"../results/bert_reviews_sentiment.pkl\")"
   ]
  },
  {
   "cell_type": "code",
   "execution_count": 3,
   "metadata": {},
   "outputs": [
    {
     "name": "stdout",
     "output_type": "stream",
     "text": [
      "<class 'list'>\n",
      "<class 'list'>\n",
      "<class 'dict'>\n"
     ]
    }
   ],
   "source": [
    "print(type(sentiment_results))\n",
    "print(type(sentiment_results[0][0]))\n",
    "print(type(sentiment_results[0][0][0]))"
   ]
  },
  {
   "cell_type": "code",
   "execution_count": 4,
   "metadata": {},
   "outputs": [
    {
     "data": {
      "text/plain": [
       "[{'label': '4 stars', 'score': 0.39698728919029236},\n",
       " {'label': '5 stars', 'score': 0.26868367195129395},\n",
       " {'label': '3 stars', 'score': 0.17163942754268646},\n",
       " {'label': '2 stars', 'score': 0.11501819640398026},\n",
       " {'label': '1 star', 'score': 0.047671422362327576}]"
      ]
     },
     "execution_count": 4,
     "metadata": {},
     "output_type": "execute_result"
    }
   ],
   "source": [
    "# Predicted probabilities for a random review\n",
    "sentiment_results[100][0]"
   ]
  },
  {
   "cell_type": "code",
   "execution_count": 5,
   "metadata": {},
   "outputs": [
    {
     "name": "stdout",
     "output_type": "stream",
     "text": [
      "(583, 2)\n"
     ]
    }
   ],
   "source": [
    "results_list = []\n",
    "for i in sentiment_results:\n",
    "    # Grab highest probability label of review\n",
    "    results_list.append(i[0][0])\n",
    "results_df = pd.DataFrame.from_dict(results_list)\n",
    "print(results_df.shape)"
   ]
  },
  {
   "cell_type": "code",
   "execution_count": 6,
   "metadata": {},
   "outputs": [
    {
     "name": "stdout",
     "output_type": "stream",
     "text": [
      "(594, 4)\n"
     ]
    }
   ],
   "source": [
    "reviews = pd.read_pickle(\"../data/user_review.pkl\")\n",
    "print(reviews.shape)\n",
    "review_lengths = []\n",
    "for review in reviews[\"Comment\"]:\n",
    "    review_lengths.append(len(word_tokenize(review)))"
   ]
  },
  {
   "cell_type": "code",
   "execution_count": 7,
   "metadata": {},
   "outputs": [
    {
     "name": "stdout",
     "output_type": "stream",
     "text": [
      "(583, 4)\n"
     ]
    }
   ],
   "source": [
    "# Indices we want to remove from our original reviews data frame\n",
    "ind_remove = np.where(np.asarray(review_lengths)>=400)[0]\n",
    "reviews.drop(index=ind_remove, inplace=True)\n",
    "reviews.reset_index(drop=True, inplace=True)\n",
    "print(reviews.shape)"
   ]
  },
  {
   "cell_type": "code",
   "execution_count": 8,
   "metadata": {},
   "outputs": [],
   "source": [
    "# Combine predicted review ratings\n",
    "sentiment_df = pd.concat([reviews, results_df], axis=1)\n",
    "sentiment_df[\"label_clean\"] = sentiment_df[\"label\"].str.get(0).astype(int)"
   ]
  },
  {
   "cell_type": "code",
   "execution_count": 9,
   "metadata": {},
   "outputs": [
    {
     "name": "stdout",
     "output_type": "stream",
     "text": [
      "Absolute accuracy: 54.37 %\n"
     ]
    }
   ],
   "source": [
    "print(\"Absolute accuracy:\",\n",
    "      round(100*sum(sentiment_df[\"Rating\"]==sentiment_df[\"label_clean\"])/len(sentiment_df), 2),\n",
    "      \"%\")"
   ]
  },
  {
   "cell_type": "code",
   "execution_count": 10,
   "metadata": {},
   "outputs": [
    {
     "name": "stdout",
     "output_type": "stream",
     "text": [
      "Accuracy within 1 star: 94.85 %\n"
     ]
    }
   ],
   "source": [
    "acc_within_1 = 0\n",
    "for ind in range(0,len(sentiment_df)):\n",
    "    if int(sentiment_df.iloc[ind, 2]) == sentiment_df.iloc[ind, 6]:\n",
    "        acc_within_1 += 1\n",
    "    elif abs(int(sentiment_df.iloc[ind, 2]) - sentiment_df.iloc[ind, 6]) == 1:\n",
    "        acc_within_1 += 1\n",
    "\n",
    "print(\"Accuracy within 1 star:\",\n",
    "      round(100*acc_within_1/len(sentiment_df), 2),\n",
    "      \"%\")"
   ]
  },
  {
   "cell_type": "code",
   "execution_count": 11,
   "metadata": {},
   "outputs": [
    {
     "data": {
      "image/png": "[encoded data removed]",
      "text/plain": [
       "<Figure size 432x288 with 2 Axes>"
      ]
     },
     "metadata": {
      "needs_background": "light"
     },
     "output_type": "display_data"
    }
   ],
   "source": [
    "conf_matrix = metrics.confusion_matrix(sentiment_df[\"Rating\"], sentiment_df[\"label_clean\"])\n",
    "cm_display = metrics.ConfusionMatrixDisplay(confusion_matrix=conf_matrix, display_labels=[1,2,3,4,5])\n",
    "\n",
    "cm_display.plot()\n",
    "plt.show()"
   ]
  }
 ],
 "metadata": {
  "kernelspec": {
   "display_name": "DL",
   "language": "python",
   "name": "python3"
  },
  "language_info": {
   "codemirror_mode": {
    "name": "ipython",
    "version": 3
   },
   "file_extension": ".py",
   "mimetype": "text/x-python",
   "name": "python",
   "nbconvert_exporter": "python",
   "pygments_lexer": "ipython3",
   "version": "3.9.7"
  }
 },
 "nbformat": 4,
 "nbformat_minor": 2
}

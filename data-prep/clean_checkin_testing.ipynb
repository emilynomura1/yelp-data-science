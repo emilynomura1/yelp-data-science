{
 "cells": [
  {
   "cell_type": "code",
   "execution_count": 1,
   "metadata": {},
   "outputs": [],
   "source": [
    "import pandas as pd"
   ]
  },
  {
   "cell_type": "code",
   "execution_count": 2,
   "metadata": {},
   "outputs": [],
   "source": [
    "file_path = \"../data/check_in.html\"\n",
    "check_in = pd.read_html(file_path)\n",
    "check_in_df = check_in[0]"
   ]
  },
  {
   "cell_type": "code",
   "execution_count": 3,
   "metadata": {},
   "outputs": [
    {
     "name": "stdout",
     "output_type": "stream",
     "text": [
      "<class 'pandas.core.frame.DataFrame'> (2562, 6)\n",
      "Index(['Date', 'Business Name', 'Comment', 'Longitude', 'Latitude', 'Status'], dtype='object')\n",
      "<class 'pandas.core.frame.DataFrame'>\n",
      "RangeIndex: 2562 entries, 0 to 2561\n",
      "Data columns (total 6 columns):\n",
      " #   Column         Non-Null Count  Dtype  \n",
      "---  ------         --------------  -----  \n",
      " 0   Date           2562 non-null   object \n",
      " 1   Business Name  2562 non-null   object \n",
      " 2   Comment        12 non-null     object \n",
      " 3   Longitude      2562 non-null   float64\n",
      " 4   Latitude       2562 non-null   float64\n",
      " 5   Status         2562 non-null   object \n",
      "dtypes: float64(2), object(4)\n",
      "memory usage: 120.2+ KB\n",
      "None\n"
     ]
    }
   ],
   "source": [
    "print(type(check_in_df), check_in_df.shape)\n",
    "#print(check_in_df.head)\n",
    "print(check_in_df.columns)\n",
    "print(check_in_df.info())"
   ]
  },
  {
   "cell_type": "code",
   "execution_count": 4,
   "metadata": {},
   "outputs": [
    {
     "name": "stdout",
     "output_type": "stream",
     "text": [
      "0       2024-02-11T01:01:08+00:00\n",
      "1       2024-02-10T04:49:23+00:00\n",
      "2       2024-02-03T23:30:03+00:00\n",
      "3       2024-02-01T18:37:47+00:00\n",
      "4       2024-01-18T03:29:57+00:00\n",
      "                  ...            \n",
      "2557    2018-01-19T05:30:14+00:00\n",
      "2558    2018-01-19T02:27:53+00:00\n",
      "2559    2018-01-18T20:13:48+00:00\n",
      "2560    2018-01-18T01:00:57+00:00\n",
      "2561    2017-08-13T06:17:24+00:00\n",
      "Name: Date, Length: 2562, dtype: object\n"
     ]
    }
   ],
   "source": [
    "print(check_in_df[\"Date\"])"
   ]
  },
  {
   "cell_type": "code",
   "execution_count": 5,
   "metadata": {},
   "outputs": [],
   "source": [
    "#print(check_in_df[\"Business Name\"])"
   ]
  },
  {
   "cell_type": "code",
   "execution_count": 6,
   "metadata": {},
   "outputs": [
    {
     "name": "stdout",
     "output_type": "stream",
     "text": [
      "         Longitude     Latitude\n",
      "count  2562.000000  2562.000000\n",
      "mean   -109.953423    32.734896\n",
      "std      42.119831    10.007447\n",
      "min    -158.143736    21.268918\n",
      "25%    -157.804847    21.376651\n",
      "50%     -71.500405    41.567476\n",
      "75%     -71.398176    41.825579\n",
      "max     -70.085849    44.884607\n"
     ]
    }
   ],
   "source": [
    "print(check_in_df.describe())"
   ]
  },
  {
   "cell_type": "code",
   "execution_count": 7,
   "metadata": {},
   "outputs": [],
   "source": [
    "check_in_df[\"Date\"] = pd.to_datetime(check_in_df[\"Date\"])\n",
    "check_in_df = check_in_df.drop(columns=['Comment', 'Status'])\n",
    "#print(check_in_df.head())"
   ]
  }
 ],
 "metadata": {
  "kernelspec": {
   "display_name": "Python 3.9 (DL)",
   "language": "python",
   "name": "dl"
  },
  "language_info": {
   "codemirror_mode": {
    "name": "ipython",
    "version": 3
   },
   "file_extension": ".py",
   "mimetype": "text/x-python",
   "name": "python",
   "nbconvert_exporter": "python",
   "pygments_lexer": "ipython3",
   "version": "3.9.7"
  }
 },
 "nbformat": 4,
 "nbformat_minor": 2
}
